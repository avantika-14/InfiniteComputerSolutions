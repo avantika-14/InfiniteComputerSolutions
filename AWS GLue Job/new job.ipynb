{
	"metadata": {
		"kernelspec": {
			"name": "glue_pyspark",
			"display_name": "Glue PySpark",
			"language": "python"
		},
		"language_info": {
			"name": "Python_Glue_Session",
			"mimetype": "text/x-python",
			"codemirror_mode": {
				"name": "python",
				"version": 3
			},
			"pygments_lexer": "python3",
			"file_extension": ".py"
		}
	},
	"nbformat_minor": 4,
	"nbformat": 4,
	"cells": [
		{
			"cell_type": "markdown",
			"source": "####  Run this cell to set up and start your interactive session.\n",
			"metadata": {
				"editable": true,
				"tags": [],
				"trusted": true
			}
		},
		{
			"cell_type": "code",
			"source": "%idle_timeout 2880\n%glue_version 4.0\n%worker_type G.1X\n%number_of_workers 5\n\nimport sys\nfrom awsglue.transforms import *\nfrom awsglue.utils import getResolvedOptions\nfrom pyspark.context import SparkContext\nfrom awsglue.context import GlueContext\nfrom awsglue.job import Job\n  \nsc = SparkContext.getOrCreate()\nglueContext = GlueContext(sc)\nspark = glueContext.spark_session\njob = Job(glueContext)",
			"metadata": {
				"trusted": true,
				"editable": true
			},
			"execution_count": 19,
			"outputs": [
				{
					"name": "stderr",
					"text": "You are already connected to a glueetl session 298caa4e-c8e3-4bf4-b8c8-3f143e8a7750.\n\nNo change will be made to the current session that is set as glueetl. The session configuration change will apply to newly created sessions.\n",
					"output_type": "stream"
				},
				{
					"name": "stdout",
					"text": "Current idle_timeout is 2880 minutes.\nidle_timeout has been set to 2880 minutes.\n",
					"output_type": "stream"
				},
				{
					"name": "stderr",
					"text": "You are already connected to a glueetl session 298caa4e-c8e3-4bf4-b8c8-3f143e8a7750.\n\nNo change will be made to the current session that is set as glueetl. The session configuration change will apply to newly created sessions.\n",
					"output_type": "stream"
				},
				{
					"name": "stdout",
					"text": "Setting Glue version to: 4.0\n",
					"output_type": "stream"
				},
				{
					"name": "stderr",
					"text": "You are already connected to a glueetl session 298caa4e-c8e3-4bf4-b8c8-3f143e8a7750.\n\nNo change will be made to the current session that is set as glueetl. The session configuration change will apply to newly created sessions.\n",
					"output_type": "stream"
				},
				{
					"name": "stdout",
					"text": "Previous worker type: G.1X\nSetting new worker type to: G.1X\n",
					"output_type": "stream"
				},
				{
					"name": "stderr",
					"text": "You are already connected to a glueetl session 298caa4e-c8e3-4bf4-b8c8-3f143e8a7750.\n\nNo change will be made to the current session that is set as glueetl. The session configuration change will apply to newly created sessions.\n",
					"output_type": "stream"
				},
				{
					"name": "stdout",
					"text": "Previous number of workers: 5\nSetting new number of workers to: 5\n\n",
					"output_type": "stream"
				}
			]
		},
		{
			"cell_type": "markdown",
			"source": "#### Create a DynamicFrame from a table in the AWS Glue Data Catalog and display its schema\n",
			"metadata": {
				"editable": true,
				"trusted": true
			}
		},
		{
			"cell_type": "code",
			"source": "layoff_table = glueContext.create_dynamic_frame_from_options(connection_type= 's3',\n                                                               connection_options={\"paths\":['s3://samplebucketawsreq/data/customersdb/customerfiles/dataload/layoffs.csv']},\n                                                               format='csv', format_options = {\"withHeader\": True, \"optimizePerformance\": True})",
			"metadata": {
				"trusted": true,
				"editable": true
			},
			"execution_count": 20,
			"outputs": [
				{
					"name": "stdout",
					"text": "\n",
					"output_type": "stream"
				}
			]
		},
		{
			"cell_type": "markdown",
			"source": "#### editing with dynamic frame\n",
			"metadata": {
				"editable": true,
				"trusted": true
			}
		},
		{
			"cell_type": "code",
			"source": "#selecting company and location from dynamic dataframe\ncompany_select=layoff_table.select_fields([\"company\",\"location\"])\n\n#to return the selected columns above\ncompany_select.show()",
			"metadata": {
				"trusted": true,
				"tags": []
			},
			"execution_count": 21,
			"outputs": [
				{
					"name": "stdout",
					"text": "{\"company\": \"BigBear.ai\", \"location\": \"Baltimore\"}\n{\"company\": \"Genome Medical\", \"location\": \"SF Bay Area\"}\n{\"company\": \"Pomelo Fashion\", \"location\": \"Bangkok\"}\n{\"company\": \"GoStudent\", \"location\": \"Vienna\"}\n{\"company\": \"Lido Learning\", \"location\": \"Mumbai\"}\n{\"company\": \"Flowhub\", \"location\": \"Denver\"}\n{\"company\": \"DreamBox Learning\", \"location\": \"Seattle\"}\n{\"company\": \"CommonBond\", \"location\": \"New York City\"}\n{\"company\": \"Capiter\", \"location\": \"Cairo\"}\n{\"company\": \"Amber Group\", \"location\": \"Hong Kong\"}\n{\"company\": \"Patreon\", \"location\": \"SF Bay Area\"}\n{\"company\": \"Brighte\", \"location\": \"Sydney\"}\n{\"company\": \"SkipTheDishes\", \"location\": \"Winnipeg\"}\n{\"company\": \"Sama\", \"location\": \"SF Bay Area\"}\n{\"company\": \"Rent the Runway\", \"location\": \"New York City\"}\n{\"company\": \"Karbon\", \"location\": \"SF Bay Area\"}\n{\"company\": \"Compete\", \"location\": \"Tel Aviv\"}\n{\"company\": \"Mode Analytics\", \"location\": \"SF Bay Area\"}\n{\"company\": \"Quicko\", \"location\": \"Sao Paulo\"}\n{\"company\": \"Propzy\", \"location\": \"Ho Chi Minh City\"}\n",
					"output_type": "stream"
				}
			]
		},
		{
			"cell_type": "code",
			"source": "#selecting and showing in one line\nlayoff_table.select_fields([\"company\",\"location\"]).show()",
			"metadata": {
				"trusted": true,
				"tags": []
			},
			"execution_count": 22,
			"outputs": [
				{
					"name": "stdout",
					"text": "{\"company\": \"BigBear.ai\", \"location\": \"Baltimore\"}\n{\"company\": \"Genome Medical\", \"location\": \"SF Bay Area\"}\n{\"company\": \"Pomelo Fashion\", \"location\": \"Bangkok\"}\n{\"company\": \"GoStudent\", \"location\": \"Vienna\"}\n{\"company\": \"Lido Learning\", \"location\": \"Mumbai\"}\n{\"company\": \"Flowhub\", \"location\": \"Denver\"}\n{\"company\": \"DreamBox Learning\", \"location\": \"Seattle\"}\n{\"company\": \"CommonBond\", \"location\": \"New York City\"}\n{\"company\": \"Capiter\", \"location\": \"Cairo\"}\n{\"company\": \"Amber Group\", \"location\": \"Hong Kong\"}\n{\"company\": \"Patreon\", \"location\": \"SF Bay Area\"}\n{\"company\": \"Brighte\", \"location\": \"Sydney\"}\n{\"company\": \"SkipTheDishes\", \"location\": \"Winnipeg\"}\n{\"company\": \"Sama\", \"location\": \"SF Bay Area\"}\n{\"company\": \"Rent the Runway\", \"location\": \"New York City\"}\n{\"company\": \"Karbon\", \"location\": \"SF Bay Area\"}\n{\"company\": \"Compete\", \"location\": \"Tel Aviv\"}\n{\"company\": \"Mode Analytics\", \"location\": \"SF Bay Area\"}\n{\"company\": \"Quicko\", \"location\": \"Sao Paulo\"}\n{\"company\": \"Propzy\", \"location\": \"Ho Chi Minh City\"}\n",
					"output_type": "stream"
				}
			]
		},
		{
			"cell_type": "code",
			"source": "#understanding the lambda function\ndyfFilter=Filter.apply(\n    frame=layoff_table,\n    f=lambda x:x[\"country\"] in \"United States\"\n)\n\n#showing the results\ndyfFilter.show()",
			"metadata": {
				"trusted": true,
				"tags": []
			},
			"execution_count": 23,
			"outputs": [
				{
					"name": "stdout",
					"text": "\", \"country\": \"United States\", \"total_laid_off\": \"NULL\", \"industry\": \"Data\", \"stage\": \"Post-IPO\"}ai\", \"funds_raised_millions\n\", \"country\": \"United States\", \"total_laid_off\": \"23\", \"industry\": \"Healthcare\", \"stage\": \"Series C\"}ical\", \"funds_raised_millions\n\", \"country\": \"United States\", \"total_laid_off\": \"NULL\", \"industry\": \"Retail\", \"stage\": \"Unknown\"}unds_raised_millions\n\", \"country\": \"United States\", \"total_laid_off\": \"NULL\", \"industry\": \"Education\", \"stage\": \"Acquired\"}ng\", \"funds_raised_millions\n\", \"country\": \"United States\", \"total_laid_off\": \"NULL\", \"industry\": \"Finance\", \"stage\": \"Series D\"}\", \"funds_raised_millions\n\", \"country\": \"United States\", \"total_laid_off\": \"5\", \"industry\": \"Media\", \"stage\": \"Series F\"}eon\", \"funds_raised_millions\n\", \"country\": \"United States\", \"total_laid_off\": \"NULL\", \"industry\": \"Data\", \"stage\": \"Series B\"}, \"funds_raised_millions\n\", \"country\": \"United States\", \"total_laid_off\": \"NULL\", \"industry\": \"Retail\", \"stage\": \"Post-IPO\"}the Runway\", \"funds_raised_millions\n\", \"country\": \"United States\", \"total_laid_off\": \"NULL\", \"industry\": \"Other\", \"stage\": \"Series B\"}\", \"funds_raised_millions\n\", \"country\": \"United States\", \"total_laid_off\": \"25\", \"industry\": \"Data\", \"stage\": \"Series D\"}e Analytics\", \"funds_raised_millions\n\", \"country\": \"United States\", \"total_laid_off\": \"NULL\", \"industry\": \"Marketing\", \"stage\": \"Unknown\"}funds_raised_millions\n\", \"country\": \"United States\", \"total_laid_off\": \"80\", \"industry\": \"Media\", \"stage\": \"Series F\"}eon\", \"funds_raised_millions\n\", \"country\": \"United States\", \"total_laid_off\": \"100\", \"industry\": \"Marketing\", \"stage\": \"Post-IPO\"}\", \"funds_raised_millions\n\", \"country\": \"United States\", \"total_laid_off\": \"160\", \"industry\": \"Healthcare\", \"stage\": \"Post-IPO\"}_raised_millions\n\", \"country\": \"United States\", \"total_laid_off\": \"30\", \"industry\": \"Media\", \"stage\": \"Post-IPO\"}lix\", \"funds_raised_millions\n\", \"country\": \"United States\", \"total_laid_off\": \"800\", \"industry\": \"Other\", \"stage\": \"Post-IPO\"}o\", \"funds_raised_millions\n\", \"country\": \"United States\", \"total_laid_off\": \"NULL\", \"industry\": \"Marketing\", \"stage\": \"Unknown\"}, \"funds_raised_millions\n\", \"country\": \"United States\", \"total_laid_off\": \"NULL\", \"industry\": \"Healthcare\", \"stage\": \"Series B\"}unds_raised_millions\n\", \"country\": \"United States\", \"total_laid_off\": \"35\", \"industry\": \"HR\", \"stage\": \"Series C\"}rkRamp\", \"funds_raised_millions\n\", \"country\": \"United States\", \"total_laid_off\": \"193\", \"industry\": \"Support\", \"stage\": \"Post-IPO\"}erson\", \"funds_raised_millions\n",
					"output_type": "stream"
				}
			]
		},
		{
			"cell_type": "markdown",
			"source": "#### Convert the DynamicFrame to a Spark DataFrame and display a sample of the data\n",
			"metadata": {
				"editable": true,
				"trusted": true
			}
		},
		{
			"cell_type": "code",
			"source": "layoff_table.printSchema()\nlayoff_table_spark=layoff_table.toDF()\nlayoff_table_spark.show()",
			"metadata": {
				"trusted": true,
				"editable": true
			},
			"execution_count": 24,
			"outputs": [
				{
					"name": "stdout",
					"text": "root\n|-- company: string\n|-- location: string\n|-- industry: string\n|-- total_laid_off: string\n|-- percentage_laid_off: string\n|-- date: string\n|-- stage: string\n|-- country: string\n: strings_raised_millions\n\n+-----------------+----------------+--------------+--------------+-------------------+---------+--------+-------------+-----------------------+\n|          company|        location|      industry|total_laid_off|percentage_laid_off|     date|   stage|      country|funds_raised_millions\\r|\n+-----------------+----------------+--------------+--------------+-------------------+---------+--------+-------------+-----------------------+\n|       BigBear.ai|       Baltimore|          Data|          NULL|               0.07| 9/8/2022|Post-IPO|United States|                  200\\r|\n|   Genome Medical|     SF Bay Area|    Healthcare|            23|               NULL| 9/8/2022|Series C|United States|                  120\\r|\n|   Pomelo Fashion|         Bangkok|        Retail|            55|               0.08| 9/8/2022| Unknown|     Thailand|                  120\\r|\n|        GoStudent|          Vienna|     Education|           200|               NULL| 9/8/2022|Series D|      Austria|                  686\\r|\n|    Lido Learning|          Mumbai|     Education|          NULL|                  1| 9/9/2022|Series C|        India|                   20\\r|\n|          Flowhub|          Denver|        Retail|          NULL|               0.15| 9/9/2022| Unknown|United States|                   45\\r|\n|DreamBox Learning|         Seattle|     Education|          NULL|               NULL| 9/9/2022|Acquired|United States|                  175\\r|\n|       CommonBond|   New York City|       Finance|          NULL|                  1| 9/9/2022|Series D|United States|                  125\\r|\n|          Capiter|           Cairo|       Finance|          NULL|               NULL| 9/9/2022|Series A|        Egypt|                   33\\r|\n|      Amber Group|       Hong Kong|        Crypto|          NULL|                0.1| 9/9/2022|Series B|    Hong Kong|                  328\\r|\n|          Patreon|     SF Bay Area|         Media|             5|               NULL| 9/9/2022|Series F|United States|                  413\\r|\n|          Brighte|          Sydney|        Energy|            58|               NULL| 9/9/2022|Series C|    Australia|                  145\\r|\n|    SkipTheDishes|        Winnipeg|          Food|           350|               NULL| 9/9/2022|Acquired|       Canada|                    6\\r|\n|             Sama|     SF Bay Area|          Data|          NULL|               NULL|9/12/2022|Series B|United States|                   84\\r|\n|  Rent the Runway|   New York City|        Retail|          NULL|               0.24|9/12/2022|Post-IPO|United States|                  526\\r|\n|           Karbon|     SF Bay Area|         Other|          NULL|               0.23|9/12/2022|Series B|United States|                   91\\r|\n|          Compete|        Tel Aviv|            HR|            11|               0.28|9/12/2022|Series A|       Israel|                   17\\r|\n|   Mode Analytics|     SF Bay Area|          Data|            25|               NULL|9/12/2022|Series D|United States|                   81\\r|\n|           Quicko|       Sao Paulo|Transportation|            60|               NULL|9/12/2022|Acquired|       Brazil|                   28\\r|\n|           Propzy|Ho Chi Minh City|   Real Estate|          NULL|                  1|9/13/2022|Series A|      Vietnam|                   33\\r|\n+-----------------+----------------+--------------+--------------+-------------------+---------+--------+-------------+-----------------------+\nonly showing top 20 rows\n",
					"output_type": "stream"
				}
			]
		},
		{
			"cell_type": "code",
			"source": "# List all columns to verify their names\nlayoff_table_spark.columns",
			"metadata": {
				"trusted": true,
				"tags": []
			},
			"execution_count": 25,
			"outputs": [
				{
					"name": "stdout",
					"text": "['company', 'location', 'industry', 'total_laid_off', 'percentage_laid_off', 'date', 'stage', 'country', 'funds_raised_millions\\r']\n",
					"output_type": "stream"
				}
			]
		},
		{
			"cell_type": "code",
			"source": "#count the dynamic frames\nlayoff_table.count()",
			"metadata": {
				"trusted": true,
				"tags": []
			},
			"execution_count": 26,
			"outputs": [
				{
					"name": "stdout",
					"text": "2361\n",
					"output_type": "stream"
				}
			]
		},
		{
			"cell_type": "code",
			"source": "layoff_table_spark.printSchema()",
			"metadata": {
				"trusted": true,
				"tags": []
			},
			"execution_count": 27,
			"outputs": [
				{
					"name": "stdout",
					"text": "root\n |-- company: string (nullable = true)\n |-- location: string (nullable = true)\n |-- industry: string (nullable = true)\n |-- total_laid_off: string (nullable = true)\n |-- percentage_laid_off: string (nullable = true)\n |-- date: string (nullable = true)\n |-- stage: string (nullable = true)\n |-- country: string (nullable = true)\n |-- funds_raised_millions\\r: string (nullable = true)\n",
					"output_type": "stream"
				}
			]
		},
		{
			"cell_type": "markdown",
			"source": "#### editing the column funds_raised_millions\n",
			"metadata": {
				"editable": true,
				"trusted": true
			}
		},
		{
			"cell_type": "code",
			"source": "from pyspark.sql.functions import regexp_replace, col",
			"metadata": {
				"trusted": true,
				"tags": []
			},
			"execution_count": 28,
			"outputs": [
				{
					"name": "stdout",
					"text": "\n",
					"output_type": "stream"
				}
			]
		},
		{
			"cell_type": "code",
			"source": "# Remove carriage return characters from the 'funds_raised_millions' column\nlayoff_table_spark = layoff_table_spark.withColumn(\n    \"funds_raised_millions\",\n    regexp_replace(col(\"funds_raised_millions\\r\"), \"\\r\", \"\")\n)\n\n# Show the DataFrame after removing the carriage return characters\nlayoff_table_spark.show()",
			"metadata": {
				"trusted": true,
				"tags": []
			},
			"execution_count": 30,
			"outputs": [
				{
					"name": "stdout",
					"text": "+-----------------+----------------+--------------+--------------+-------------------+---------+--------+-------------+-----------------------+---------------------+\n|          company|        location|      industry|total_laid_off|percentage_laid_off|     date|   stage|      country|funds_raised_millions\\r|funds_raised_millions|\n+-----------------+----------------+--------------+--------------+-------------------+---------+--------+-------------+-----------------------+---------------------+\n|       BigBear.ai|       Baltimore|          Data|          NULL|               0.07| 9/8/2022|Post-IPO|United States|                    200|                  200|\n|   Genome Medical|     SF Bay Area|    Healthcare|            23|               NULL| 9/8/2022|Series C|United States|                    120|                  120|\n|   Pomelo Fashion|         Bangkok|        Retail|            55|               0.08| 9/8/2022| Unknown|     Thailand|                    120|                  120|\n|        GoStudent|          Vienna|     Education|           200|               NULL| 9/8/2022|Series D|      Austria|                    686|                  686|\n|    Lido Learning|          Mumbai|     Education|          NULL|                  1| 9/9/2022|Series C|        India|                     20|                   20|\n|          Flowhub|          Denver|        Retail|          NULL|               0.15| 9/9/2022| Unknown|United States|                     45|                   45|\n|DreamBox Learning|         Seattle|     Education|          NULL|               NULL| 9/9/2022|Acquired|United States|                    175|                  175|\n|       CommonBond|   New York City|       Finance|          NULL|                  1| 9/9/2022|Series D|United States|                    125|                  125|\n|          Capiter|           Cairo|       Finance|          NULL|               NULL| 9/9/2022|Series A|        Egypt|                     33|                   33|\n|      Amber Group|       Hong Kong|        Crypto|          NULL|                0.1| 9/9/2022|Series B|    Hong Kong|                    328|                  328|\n|          Patreon|     SF Bay Area|         Media|             5|               NULL| 9/9/2022|Series F|United States|                    413|                  413|\n|          Brighte|          Sydney|        Energy|            58|               NULL| 9/9/2022|Series C|    Australia|                    145|                  145|\n|    SkipTheDishes|        Winnipeg|          Food|           350|               NULL| 9/9/2022|Acquired|       Canada|                      6|                    6|\n|             Sama|     SF Bay Area|          Data|          NULL|               NULL|9/12/2022|Series B|United States|                     84|                   84|\n|  Rent the Runway|   New York City|        Retail|          NULL|               0.24|9/12/2022|Post-IPO|United States|                    526|                  526|\n|           Karbon|     SF Bay Area|         Other|          NULL|               0.23|9/12/2022|Series B|United States|                     91|                   91|\n|          Compete|        Tel Aviv|            HR|            11|               0.28|9/12/2022|Series A|       Israel|                     17|                   17|\n|   Mode Analytics|     SF Bay Area|          Data|            25|               NULL|9/12/2022|Series D|United States|                     81|                   81|\n|           Quicko|       Sao Paulo|Transportation|            60|               NULL|9/12/2022|Acquired|       Brazil|                     28|                   28|\n|           Propzy|Ho Chi Minh City|   Real Estate|          NULL|                  1|9/13/2022|Series A|      Vietnam|                     33|                   33|\n+-----------------+----------------+--------------+--------------+-------------------+---------+--------+-------------+-----------------------+---------------------+\nonly showing top 20 rows\n",
					"output_type": "stream"
				}
			]
		},
		{
			"cell_type": "code",
			"source": "layoff_table_spark.columns",
			"metadata": {
				"trusted": true,
				"tags": []
			},
			"execution_count": 31,
			"outputs": [
				{
					"name": "stdout",
					"text": "['company', 'location', 'industry', 'total_laid_off', 'percentage_laid_off', 'date', 'stage', 'country', 'funds_raised_millions\\r', 'funds_raised_millions']\n",
					"output_type": "stream"
				}
			]
		},
		{
			"cell_type": "code",
			"source": "layoff_table_spark=layoff_table_spark.drop(\"funds_raised_millions\\r\")\nlayoff_table_spark.show()",
			"metadata": {
				"trusted": true,
				"tags": []
			},
			"execution_count": 32,
			"outputs": [
				{
					"name": "stdout",
					"text": "+-----------------+----------------+--------------+--------------+-------------------+---------+--------+-------------+---------------------+\n|          company|        location|      industry|total_laid_off|percentage_laid_off|     date|   stage|      country|funds_raised_millions|\n+-----------------+----------------+--------------+--------------+-------------------+---------+--------+-------------+---------------------+\n|       BigBear.ai|       Baltimore|          Data|          NULL|               0.07| 9/8/2022|Post-IPO|United States|                  200|\n|   Genome Medical|     SF Bay Area|    Healthcare|            23|               NULL| 9/8/2022|Series C|United States|                  120|\n|   Pomelo Fashion|         Bangkok|        Retail|            55|               0.08| 9/8/2022| Unknown|     Thailand|                  120|\n|        GoStudent|          Vienna|     Education|           200|               NULL| 9/8/2022|Series D|      Austria|                  686|\n|    Lido Learning|          Mumbai|     Education|          NULL|                  1| 9/9/2022|Series C|        India|                   20|\n|          Flowhub|          Denver|        Retail|          NULL|               0.15| 9/9/2022| Unknown|United States|                   45|\n|DreamBox Learning|         Seattle|     Education|          NULL|               NULL| 9/9/2022|Acquired|United States|                  175|\n|       CommonBond|   New York City|       Finance|          NULL|                  1| 9/9/2022|Series D|United States|                  125|\n|          Capiter|           Cairo|       Finance|          NULL|               NULL| 9/9/2022|Series A|        Egypt|                   33|\n|      Amber Group|       Hong Kong|        Crypto|          NULL|                0.1| 9/9/2022|Series B|    Hong Kong|                  328|\n|          Patreon|     SF Bay Area|         Media|             5|               NULL| 9/9/2022|Series F|United States|                  413|\n|          Brighte|          Sydney|        Energy|            58|               NULL| 9/9/2022|Series C|    Australia|                  145|\n|    SkipTheDishes|        Winnipeg|          Food|           350|               NULL| 9/9/2022|Acquired|       Canada|                    6|\n|             Sama|     SF Bay Area|          Data|          NULL|               NULL|9/12/2022|Series B|United States|                   84|\n|  Rent the Runway|   New York City|        Retail|          NULL|               0.24|9/12/2022|Post-IPO|United States|                  526|\n|           Karbon|     SF Bay Area|         Other|          NULL|               0.23|9/12/2022|Series B|United States|                   91|\n|          Compete|        Tel Aviv|            HR|            11|               0.28|9/12/2022|Series A|       Israel|                   17|\n|   Mode Analytics|     SF Bay Area|          Data|            25|               NULL|9/12/2022|Series D|United States|                   81|\n|           Quicko|       Sao Paulo|Transportation|            60|               NULL|9/12/2022|Acquired|       Brazil|                   28|\n|           Propzy|Ho Chi Minh City|   Real Estate|          NULL|                  1|9/13/2022|Series A|      Vietnam|                   33|\n+-----------------+----------------+--------------+--------------+-------------------+---------+--------+-------------+---------------------+\nonly showing top 20 rows\n",
					"output_type": "stream"
				}
			]
		},
		{
			"cell_type": "code",
			"source": "layoff_table_spark.where(layoff_table_spark[\"funds_raised_millions\"] == \"NULL\").count()",
			"metadata": {
				"trusted": true,
				"tags": []
			},
			"execution_count": 33,
			"outputs": [
				{
					"name": "stdout",
					"text": "209\n",
					"output_type": "stream"
				}
			]
		},
		{
			"cell_type": "code",
			"source": "from pyspark.sql.functions import when",
			"metadata": {
				"trusted": true,
				"tags": []
			},
			"execution_count": 35,
			"outputs": [
				{
					"name": "stdout",
					"text": "\n",
					"output_type": "stream"
				}
			]
		},
		{
			"cell_type": "code",
			"source": "#assuming all the null values to be 0 and converting them to 0\nlayoff_table_spark = layoff_table_spark.withColumn(\n    \"funds_raised_millions\", when(col(\"funds_raised_millions\") == \"NULL\", \"0\").otherwise(col(\"funds_raised_millions\")))",
			"metadata": {
				"trusted": true,
				"tags": []
			},
			"execution_count": 36,
			"outputs": [
				{
					"name": "stdout",
					"text": "\n",
					"output_type": "stream"
				}
			]
		},
		{
			"cell_type": "code",
			"source": "layoff_table_spark.where(layoff_table_spark[\"funds_raised_millions\"] == \"NULL\").count()",
			"metadata": {
				"trusted": true,
				"tags": []
			},
			"execution_count": 37,
			"outputs": [
				{
					"name": "stdout",
					"text": "0\n",
					"output_type": "stream"
				}
			]
		},
		{
			"cell_type": "markdown",
			"source": "#### knowing different functions\n",
			"metadata": {
				"editable": true,
				"trusted": true
			}
		},
		{
			"cell_type": "code",
			"source": "#selecting column in spark dataframe\ndfSelect=layoff_table_spark.select(\"company\",\"location\")\n\n# show selected\ndfSelect.show()",
			"metadata": {
				"trusted": true,
				"tags": []
			},
			"execution_count": 38,
			"outputs": [
				{
					"name": "stdout",
					"text": "+-----------------+----------------+\n|          company|        location|\n+-----------------+----------------+\n|       BigBear.ai|       Baltimore|\n|   Genome Medical|     SF Bay Area|\n|   Pomelo Fashion|         Bangkok|\n|        GoStudent|          Vienna|\n|    Lido Learning|          Mumbai|\n|          Flowhub|          Denver|\n|DreamBox Learning|         Seattle|\n|       CommonBond|   New York City|\n|          Capiter|           Cairo|\n|      Amber Group|       Hong Kong|\n|          Patreon|     SF Bay Area|\n|          Brighte|          Sydney|\n|    SkipTheDishes|        Winnipeg|\n|             Sama|     SF Bay Area|\n|  Rent the Runway|   New York City|\n|           Karbon|     SF Bay Area|\n|          Compete|        Tel Aviv|\n|   Mode Analytics|     SF Bay Area|\n|           Quicko|       Sao Paulo|\n|           Propzy|Ho Chi Minh City|\n+-----------------+----------------+\nonly showing top 20 rows\n",
					"output_type": "stream"
				}
			]
		},
		{
			"cell_type": "code",
			"source": "layoff_table_spark=layoff_table_spark.withColumnRenamed(\"company\",\"company_name\")",
			"metadata": {
				"trusted": true,
				"tags": []
			},
			"execution_count": 39,
			"outputs": [
				{
					"name": "stdout",
					"text": "\n",
					"output_type": "stream"
				}
			]
		},
		{
			"cell_type": "code",
			"source": "#import lit from sql functions \nfrom  pyspark.sql.functions import lit\n\n#add a column in spark dataframe with a literal string\nlayoff_table_spark.withColumn(\"date_decided\", lit(\"2022-07-24\")).show()",
			"metadata": {
				"trusted": true,
				"tags": []
			},
			"execution_count": 40,
			"outputs": [
				{
					"name": "stdout",
					"text": "+-----------------+----------------+--------------+--------------+-------------------+---------+--------+-------------+---------------------+------------+\n|     company_name|        location|      industry|total_laid_off|percentage_laid_off|     date|   stage|      country|funds_raised_millions|date_decided|\n+-----------------+----------------+--------------+--------------+-------------------+---------+--------+-------------+---------------------+------------+\n|       BigBear.ai|       Baltimore|          Data|          NULL|               0.07| 9/8/2022|Post-IPO|United States|                  200|  2022-07-24|\n|   Genome Medical|     SF Bay Area|    Healthcare|            23|               NULL| 9/8/2022|Series C|United States|                  120|  2022-07-24|\n|   Pomelo Fashion|         Bangkok|        Retail|            55|               0.08| 9/8/2022| Unknown|     Thailand|                  120|  2022-07-24|\n|        GoStudent|          Vienna|     Education|           200|               NULL| 9/8/2022|Series D|      Austria|                  686|  2022-07-24|\n|    Lido Learning|          Mumbai|     Education|          NULL|                  1| 9/9/2022|Series C|        India|                   20|  2022-07-24|\n|          Flowhub|          Denver|        Retail|          NULL|               0.15| 9/9/2022| Unknown|United States|                   45|  2022-07-24|\n|DreamBox Learning|         Seattle|     Education|          NULL|               NULL| 9/9/2022|Acquired|United States|                  175|  2022-07-24|\n|       CommonBond|   New York City|       Finance|          NULL|                  1| 9/9/2022|Series D|United States|                  125|  2022-07-24|\n|          Capiter|           Cairo|       Finance|          NULL|               NULL| 9/9/2022|Series A|        Egypt|                   33|  2022-07-24|\n|      Amber Group|       Hong Kong|        Crypto|          NULL|                0.1| 9/9/2022|Series B|    Hong Kong|                  328|  2022-07-24|\n|          Patreon|     SF Bay Area|         Media|             5|               NULL| 9/9/2022|Series F|United States|                  413|  2022-07-24|\n|          Brighte|          Sydney|        Energy|            58|               NULL| 9/9/2022|Series C|    Australia|                  145|  2022-07-24|\n|    SkipTheDishes|        Winnipeg|          Food|           350|               NULL| 9/9/2022|Acquired|       Canada|                    6|  2022-07-24|\n|             Sama|     SF Bay Area|          Data|          NULL|               NULL|9/12/2022|Series B|United States|                   84|  2022-07-24|\n|  Rent the Runway|   New York City|        Retail|          NULL|               0.24|9/12/2022|Post-IPO|United States|                  526|  2022-07-24|\n|           Karbon|     SF Bay Area|         Other|          NULL|               0.23|9/12/2022|Series B|United States|                   91|  2022-07-24|\n|          Compete|        Tel Aviv|            HR|            11|               0.28|9/12/2022|Series A|       Israel|                   17|  2022-07-24|\n|   Mode Analytics|     SF Bay Area|          Data|            25|               NULL|9/12/2022|Series D|United States|                   81|  2022-07-24|\n|           Quicko|       Sao Paulo|Transportation|            60|               NULL|9/12/2022|Acquired|       Brazil|                   28|  2022-07-24|\n|           Propzy|Ho Chi Minh City|   Real Estate|          NULL|                  1|9/13/2022|Series A|      Vietnam|                   33|  2022-07-24|\n+-----------------+----------------+--------------+--------------+-------------------+---------+--------+-------------+---------------------+------------+\nonly showing top 20 rows\n",
					"output_type": "stream"
				}
			]
		},
		{
			"cell_type": "code",
			"source": "from pyspark.sql.functions import collect_list",
			"metadata": {
				"trusted": true,
				"tags": []
			},
			"execution_count": 41,
			"outputs": [
				{
					"name": "stdout",
					"text": "\n",
					"output_type": "stream"
				}
			]
		},
		{
			"cell_type": "code",
			"source": "grouped_df = layoff_table_spark.groupBy(\"location\").agg(collect_list(\"company_name\").alias(\"companies\"))\ngrouped_df.show(100)",
			"metadata": {
				"trusted": true,
				"tags": []
			},
			"execution_count": 43,
			"outputs": [
				{
					"name": "stdout",
					"text": "+----------------+--------------------+\n|        location|           companies|\n+----------------+--------------------+\n|           Accra|             [Viamo]|\n|       Ahmedabad|       [Lendingkart]|\n|          Albany|       [CommerceHub]|\n|       Amsterdam|[Uber, Booking.co...|\n|       Ann Arbor|   [Merative, Clinc]|\n|          Athens|              [Beat]|\n|         Atlanta|[Salesloft, Secur...|\n|        Auckland| [Laybuy, First AML]|\n|          Austin|[Dell, Sana Benef...|\n|       Baltimore|[BigBear.ai, Sale...|\n|         Bangkok|    [Pomelo Fashion]|\n|       Barcelona|[Typeform, Wallbo...|\n|     Baton Rouge|   [Electronic Arts]|\n|     Beau Vallon|   [Octopus Network]|\n|         Beijing|[Ziroom, Huobi, M...|\n|  Belo Horizonte|[MaxMilhas, Rock ...|\n|            Bend|[Dutchie, Lora Di...|\n|       Bengaluru|[Byju's, WeTrade,...|\n|          Berlin|[Zalando, OneFoot...|\n|      Birmingham|  [Landing, Landing]|\n|        Bismarck|        [CoSchedule]|\n|        Blumenau|[Ambev Tech, Movi...|\n|          Bogota|[Addi, Hunty, Fru...|\n|           Boise|[Tackle, Trucksto...|\n|          Boston|[Desktop Metal, K...|\n|         Boulder|[Automox, Outside...|\n|        Brasilia|        [Afterverse]|\n|        Brisbane|[Superloop, Zepto...|\n|         Bristol|[Immersive Labs, ...|\n|        Brussels|          [Collibra]|\n|       Bucharest|         [Foodpanda]|\n|        Budapest|           [Bitrise]|\n|    Buenos Aires|[Buenbit, Tiendan...|\n|      Burlington|             [Polly]|\n|           Cairo|     [Capiter, SWVL]|\n|         Calgary|[Goodfood, Symend...|\n|       Cape Town|              [Yoco]|\n|      Charleston|         [Blackbaud]|\n|       Charlotte|[Passport, Lendin...|\n|         Chennai|[Fipola, PickYour...|\n|         Chicago|[Amount, Thoughtw...|\n|      Cincinnati|[Coterie Insuranc...|\n|         Coimbra|           [Feedzai]|\n|        Columbus|[Beam Benefits, O...|\n|      Copenhagen|[Airtame, Simple ...|\n|            Cork|          [Teamwork]|\n|        Curitiba|[Ebanx, Olist, Eb...|\n|           Dakar|              [Wave]|\n|          Dallas|[OYO, Bestow, Sly...|\n|       Davenport|         [divvyDOSE]|\n|          Denver|[Palantir, Blupri...|\n|         Detroit|[Rivian, StockX, ...|\n|           Dover|          [Lokalise]|\n|           Dubai|[Careem, Awok, SW...|\n|          Dublin|[LearnUpon, Clear...|\n|          Durham|            [Adwerx]|\n|      Dusseldorf|           [Trivago]|\n|      Düsseldorf|        [Springlane]|\n|       Edinburgh|        [Skyscanner]|\n|       Eindhoven|         [SendCloud]|\n|    Fayetteville|  [Engine eCommerce]|\n|     Ferdericton|         [Introhive]|\n|   Florianópolis|          [Involves]|\n|       Frankfurt|       [Software AG]|\n|      Gothenburg|              [Juni]|\n|    Grand Rapids|[Booking.com, Lan...|\n|     Guadalajara|     [Kueski, Plerk]|\n|        Gurugram|[Zomato, CarDekho...|\n|         Hamburg|[Finleap Connect,...|\n|           Hanoi|             [WeFit]|\n|        Helsinki|[Swappie, Aiven, ...|\n|Ho Chi Minh City|    [Propzy, Propzy]|\n|       Hong Kong|[Oriente, Bullish...|\n|         Houston|          [Liongard]|\n|      Huntsville|       [CommentSold]|\n|       Hyderabad|       [Practically]|\n|          Ibadan|    [Alerzo, Alerzo]|\n|    Indianapolis|             [Woven]|\n|          Indore|        [Gramophone]|\n|        Istanbul|             [Getir]|\n|         Jakarta|[Moladin, Stoqo, ...|\n|     Jersey City|       [DriveWealth]|\n|       Jerusalem| [Lightricks, OrCam]|\n|       Joinville| [Mercos, ContaAzul]|\n|     Kansas City|              [C2FO]|\n|         Karachi|       [Truck It In]|\n|       Karlsruhe|[Chrono24, Chrono24]|\n|            Kiel|            [Gitpod]|\n|          Krakow|           [Brainly]|\n|    Kuala Lumpur|[iPrice Group, If...|\n|           Lagos|[Bolt, Renmoney, ...|\n|          Lahore|  [Airlift, Airlift]|\n|       Las Vegas|[NS8, Monzo, Zapp...|\n|            Lehi|[Owlet, MX, Ocavu...|\n|       Lexington|[Rubicon Technolo...|\n|            Lima|           [Crehana]|\n|          Lisbon|   [Monese, Unbabel]|\n|           Logan|  [iFit, iFit, iFit]|\n|          London|[Snowplow, Delive...|\n|     Los Angeles|[VinFast US, Reli...|\n+----------------+--------------------+\nonly showing top 100 rows\n",
					"output_type": "stream"
				}
			]
		},
		{
			"cell_type": "code",
			"source": "from pyspark.sql.functions import trim, col, when\n#Düsseldorf is entered with two different names, hence we correct it\nlayoff_table_spark = layoff_table_spark.withColumn(\n    \"location\", when(col(\"location\") == \"Dusseldorf\", \"Düsseldorf\").otherwise(col(\"location\")))",
			"metadata": {
				"trusted": true,
				"tags": []
			},
			"execution_count": 44,
			"outputs": [
				{
					"name": "stdout",
					"text": "\n",
					"output_type": "stream"
				}
			]
		},
		{
			"cell_type": "code",
			"source": "grouped_df = layoff_table_spark.groupBy(\"location\").agg(collect_list(\"company_name\").alias(\"companies\"))\ngrouped_df.show(100)",
			"metadata": {
				"trusted": true,
				"tags": []
			},
			"execution_count": 46,
			"outputs": [
				{
					"name": "stdout",
					"text": "+----------------+--------------------+\n|        location|           companies|\n+----------------+--------------------+\n|           Accra|             [Viamo]|\n|       Ahmedabad|       [Lendingkart]|\n|          Albany|       [CommerceHub]|\n|       Amsterdam|[Uber, Booking.co...|\n|       Ann Arbor|   [Merative, Clinc]|\n|          Athens|              [Beat]|\n|         Atlanta|[Salesloft, Secur...|\n|        Auckland| [Laybuy, First AML]|\n|          Austin|[Dell, Sana Benef...|\n|       Baltimore|[BigBear.ai, Sale...|\n|         Bangkok|    [Pomelo Fashion]|\n|       Barcelona|[Typeform, Wallbo...|\n|     Baton Rouge|   [Electronic Arts]|\n|     Beau Vallon|   [Octopus Network]|\n|         Beijing|[Ziroom, Huobi, M...|\n|  Belo Horizonte|[MaxMilhas, Rock ...|\n|            Bend|[Dutchie, Lora Di...|\n|       Bengaluru|[Byju's, WeTrade,...|\n|          Berlin|[Zalando, OneFoot...|\n|      Birmingham|  [Landing, Landing]|\n|        Bismarck|        [CoSchedule]|\n|        Blumenau|[Ambev Tech, Movi...|\n|          Bogota|[Addi, Hunty, Fru...|\n|           Boise|[Tackle, Trucksto...|\n|          Boston|[Desktop Metal, K...|\n|         Boulder|[Automox, Outside...|\n|        Brasilia|        [Afterverse]|\n|        Brisbane|[Superloop, Zepto...|\n|         Bristol|[Immersive Labs, ...|\n|        Brussels|          [Collibra]|\n|       Bucharest|         [Foodpanda]|\n|        Budapest|           [Bitrise]|\n|    Buenos Aires|[Buenbit, Tiendan...|\n|      Burlington|             [Polly]|\n|           Cairo|     [Capiter, SWVL]|\n|         Calgary|[Goodfood, Symend...|\n|       Cape Town|              [Yoco]|\n|      Charleston|         [Blackbaud]|\n|       Charlotte|[Passport, Lendin...|\n|         Chennai|[Fipola, PickYour...|\n|         Chicago|[Amount, Thoughtw...|\n|      Cincinnati|[Coterie Insuranc...|\n|         Coimbra|           [Feedzai]|\n|        Columbus|[Beam Benefits, O...|\n|      Copenhagen|[Airtame, Simple ...|\n|            Cork|          [Teamwork]|\n|        Curitiba|[Ebanx, Olist, Eb...|\n|           Dakar|              [Wave]|\n|          Dallas|[OYO, Bestow, Sly...|\n|       Davenport|         [divvyDOSE]|\n|          Denver|[Palantir, Blupri...|\n|         Detroit|[Rivian, StockX, ...|\n|           Dover|          [Lokalise]|\n|           Dubai|[Careem, Awok, SW...|\n|          Dublin|[LearnUpon, Clear...|\n|          Durham|            [Adwerx]|\n|      Düsseldorf|[Trivago, Springl...|\n|       Edinburgh|        [Skyscanner]|\n|       Eindhoven|         [SendCloud]|\n|    Fayetteville|  [Engine eCommerce]|\n|     Ferdericton|         [Introhive]|\n|   Florianópolis|          [Involves]|\n|       Frankfurt|       [Software AG]|\n|      Gothenburg|              [Juni]|\n|    Grand Rapids|[Booking.com, Lan...|\n|     Guadalajara|     [Kueski, Plerk]|\n|        Gurugram|[Zomato, CarDekho...|\n|         Hamburg|[Finleap Connect,...|\n|           Hanoi|             [WeFit]|\n|        Helsinki|[Swappie, Aiven, ...|\n|Ho Chi Minh City|    [Propzy, Propzy]|\n|       Hong Kong|[Oriente, Bullish...|\n|         Houston|          [Liongard]|\n|      Huntsville|       [CommentSold]|\n|       Hyderabad|       [Practically]|\n|          Ibadan|    [Alerzo, Alerzo]|\n|    Indianapolis|             [Woven]|\n|          Indore|        [Gramophone]|\n|        Istanbul|             [Getir]|\n|         Jakarta|[Moladin, Stoqo, ...|\n|     Jersey City|       [DriveWealth]|\n|       Jerusalem| [Lightricks, OrCam]|\n|       Joinville| [Mercos, ContaAzul]|\n|     Kansas City|              [C2FO]|\n|         Karachi|       [Truck It In]|\n|       Karlsruhe|[Chrono24, Chrono24]|\n|            Kiel|            [Gitpod]|\n|          Krakow|           [Brainly]|\n|    Kuala Lumpur|[iPrice Group, If...|\n|           Lagos|[Bolt, Renmoney, ...|\n|          Lahore|  [Airlift, Airlift]|\n|       Las Vegas|[NS8, Monzo, Zapp...|\n|            Lehi|[Owlet, MX, Ocavu...|\n|       Lexington|[Rubicon Technolo...|\n|            Lima|           [Crehana]|\n|          Lisbon|   [Monese, Unbabel]|\n|           Logan|  [iFit, iFit, iFit]|\n|          London|[Snowplow, Delive...|\n|     Los Angeles|[VinFast US, Reli...|\n|      Louisville|     [Bamboo Health]|\n+----------------+--------------------+\nonly showing top 100 rows\n",
					"output_type": "stream"
				}
			]
		},
		{
			"cell_type": "code",
			"source": "layoff_table_spark.where(layoff_table_spark[\"company_name\"] == \"iFit\").show()",
			"metadata": {
				"trusted": true,
				"tags": []
			},
			"execution_count": 47,
			"outputs": [
				{
					"name": "stdout",
					"text": "+------------+--------+--------+--------------+-------------------+----------+--------------+-------------+---------------------+\n|company_name|location|industry|total_laid_off|percentage_laid_off|      date|         stage|      country|funds_raised_millions|\n+------------+--------+--------+--------------+-------------------+----------+--------------+-------------+---------------------+\n|        iFit|   Logan| Fitness|           300|                0.2|11/14/2022|Private Equity|United States|                  200|\n|        iFit|   Logan| Fitness|          NULL|               NULL| 12/8/2021|Private Equity|United States|                  200|\n|        iFit|   Logan| Fitness|          NULL|               NULL| 2/25/2022|Private Equity|United States|                  200|\n+------------+--------+--------+--------------+-------------------+----------+--------------+-------------+---------------------+\n",
					"output_type": "stream"
				}
			]
		},
		{
			"cell_type": "code",
			"source": "from pyspark.sql.functions import col",
			"metadata": {
				"trusted": true,
				"tags": []
			},
			"execution_count": 48,
			"outputs": [
				{
					"name": "stdout",
					"text": "\n",
					"output_type": "stream"
				}
			]
		},
		{
			"cell_type": "code",
			"source": "# Filter out rows where 'company_name' is 'iFit' and 'total_laid_off' is 'NULL'\nlayoff_table_spark = layoff_table_spark.filter(\n    ~((col(\"company_name\") == \"iFit\") & (col(\"total_laid_off\")==\"NULL\"))\n)",
			"metadata": {
				"trusted": true,
				"tags": []
			},
			"execution_count": 49,
			"outputs": [
				{
					"name": "stdout",
					"text": "\n",
					"output_type": "stream"
				}
			]
		},
		{
			"cell_type": "code",
			"source": "layoff_table_spark.where(layoff_table_spark[\"company_name\"] == \"iFit\").show()",
			"metadata": {
				"trusted": true,
				"tags": []
			},
			"execution_count": 50,
			"outputs": [
				{
					"name": "stdout",
					"text": "+------------+--------+--------+--------------+-------------------+----------+--------------+-------------+---------------------+\n|company_name|location|industry|total_laid_off|percentage_laid_off|      date|         stage|      country|funds_raised_millions|\n+------------+--------+--------+--------------+-------------------+----------+--------------+-------------+---------------------+\n|        iFit|   Logan| Fitness|           300|                0.2|11/14/2022|Private Equity|United States|                  200|\n+------------+--------+--------+--------------+-------------------+----------+--------------+-------------+---------------------+\n",
					"output_type": "stream"
				}
			]
		},
		{
			"cell_type": "code",
			"source": "layoff_table_spark.where(layoff_table_spark[\"company_name\"] == \"Airlift\").show()",
			"metadata": {
				"trusted": true,
				"tags": []
			},
			"execution_count": 51,
			"outputs": [
				{
					"name": "stdout",
					"text": "+------------+--------+---------+--------------+-------------------+---------+--------+--------+---------------------+\n|company_name|location| industry|total_laid_off|percentage_laid_off|     date|   stage| country|funds_raised_millions|\n+------------+--------+---------+--------------+-------------------+---------+--------+--------+---------------------+\n|     Airlift|  Lahore|Logistics|          NULL|               0.31|5/25/2022|Series B|Pakistan|                  109|\n|     Airlift|  Lahore|Logistics|          NULL|                  1|7/12/2022|Series B|Pakistan|                  109|\n+------------+--------+---------+--------------+-------------------+---------+--------+--------+---------------------+\n",
					"output_type": "stream"
				}
			]
		},
		{
			"cell_type": "code",
			"source": "layoff_table_spark = layoff_table_spark.filter(\n    ~((col(\"company_name\") == \"Airlift\") & (col(\"percentage_laid_off\")==\"0.31\"))\n)",
			"metadata": {
				"trusted": true,
				"tags": []
			},
			"execution_count": 52,
			"outputs": [
				{
					"name": "stdout",
					"text": "\n",
					"output_type": "stream"
				}
			]
		},
		{
			"cell_type": "code",
			"source": "layoff_table_spark.show()",
			"metadata": {
				"trusted": true,
				"tags": []
			},
			"execution_count": 53,
			"outputs": [
				{
					"name": "stdout",
					"text": "+-----------------+----------------+--------------+--------------+-------------------+---------+--------+-------------+---------------------+\n|     company_name|        location|      industry|total_laid_off|percentage_laid_off|     date|   stage|      country|funds_raised_millions|\n+-----------------+----------------+--------------+--------------+-------------------+---------+--------+-------------+---------------------+\n|       BigBear.ai|       Baltimore|          Data|          NULL|               0.07| 9/8/2022|Post-IPO|United States|                  200|\n|   Genome Medical|     SF Bay Area|    Healthcare|            23|               NULL| 9/8/2022|Series C|United States|                  120|\n|   Pomelo Fashion|         Bangkok|        Retail|            55|               0.08| 9/8/2022| Unknown|     Thailand|                  120|\n|        GoStudent|          Vienna|     Education|           200|               NULL| 9/8/2022|Series D|      Austria|                  686|\n|    Lido Learning|          Mumbai|     Education|          NULL|                  1| 9/9/2022|Series C|        India|                   20|\n|          Flowhub|          Denver|        Retail|          NULL|               0.15| 9/9/2022| Unknown|United States|                   45|\n|DreamBox Learning|         Seattle|     Education|          NULL|               NULL| 9/9/2022|Acquired|United States|                  175|\n|       CommonBond|   New York City|       Finance|          NULL|                  1| 9/9/2022|Series D|United States|                  125|\n|          Capiter|           Cairo|       Finance|          NULL|               NULL| 9/9/2022|Series A|        Egypt|                   33|\n|      Amber Group|       Hong Kong|        Crypto|          NULL|                0.1| 9/9/2022|Series B|    Hong Kong|                  328|\n|          Patreon|     SF Bay Area|         Media|             5|               NULL| 9/9/2022|Series F|United States|                  413|\n|          Brighte|          Sydney|        Energy|            58|               NULL| 9/9/2022|Series C|    Australia|                  145|\n|    SkipTheDishes|        Winnipeg|          Food|           350|               NULL| 9/9/2022|Acquired|       Canada|                    6|\n|             Sama|     SF Bay Area|          Data|          NULL|               NULL|9/12/2022|Series B|United States|                   84|\n|  Rent the Runway|   New York City|        Retail|          NULL|               0.24|9/12/2022|Post-IPO|United States|                  526|\n|           Karbon|     SF Bay Area|         Other|          NULL|               0.23|9/12/2022|Series B|United States|                   91|\n|          Compete|        Tel Aviv|            HR|            11|               0.28|9/12/2022|Series A|       Israel|                   17|\n|   Mode Analytics|     SF Bay Area|          Data|            25|               NULL|9/12/2022|Series D|United States|                   81|\n|           Quicko|       Sao Paulo|Transportation|            60|               NULL|9/12/2022|Acquired|       Brazil|                   28|\n|           Propzy|Ho Chi Minh City|   Real Estate|          NULL|                  1|9/13/2022|Series A|      Vietnam|                   33|\n+-----------------+----------------+--------------+--------------+-------------------+---------+--------+-------------+---------------------+\nonly showing top 20 rows\n",
					"output_type": "stream"
				}
			]
		},
		{
			"cell_type": "markdown",
			"source": "#### changing empty values to null in industry\n",
			"metadata": {
				"editable": true,
				"trusted": true
			}
		},
		{
			"cell_type": "code",
			"source": "# Group by lastname then print counts of industries and show\nlayoff_table_spark.groupBy(\"industry\").count().show(50)",
			"metadata": {
				"trusted": true,
				"tags": []
			},
			"execution_count": 54,
			"outputs": [
				{
					"name": "stdout",
					"text": "+---------------+-----+\n|       industry|count|\n+---------------+-----+\n|         Energy|   12|\n| Infrastructure|   43|\n|          Legal|   13|\n|           Data|   79|\n|        Support|   43|\n|         Crypto|   99|\n|    Real Estate|  117|\n|          Other|  129|\n|        Fitness|   29|\n| Transportation|  148|\n|          Sales|   37|\n|         Retail|  195|\n|       Fin-Tech|    3|\n|      Education|   93|\n|         Travel|   66|\n|           NULL|    1|\n|     Healthcare|  183|\n|        Finance|  284|\n|          Media|   95|\n|           Food|  141|\n|             HR|   66|\n|      Marketing|  139|\n|       Hardware|   17|\n|   Construction|   16|\n|        Product|   35|\n|     Recruiting|   28|\n|  Manufacturing|    2|\n|      Logistics|   41|\n|               |    3|\n|Crypto Currency|    2|\n|       Consumer|  118|\n| CryptoCurrency|    1|\n|       Security|   74|\n|      Aerospace|    6|\n+---------------+-----+\n",
					"output_type": "stream"
				}
			]
		},
		{
			"cell_type": "code",
			"source": "from pyspark.sql import SparkSession\nimport pyspark.sql.functions as F\nfrom pyspark.sql.types import *\nSparkSession=SparkSession.builder.getOrCreate()\nlayoff_table_spark = layoff_table_spark.withColumn(\"industry\", when(col(\"industry\") == \"\", \"NULL\").otherwise(col(\"industry\")))",
			"metadata": {
				"trusted": true,
				"tags": []
			},
			"execution_count": 55,
			"outputs": [
				{
					"name": "stdout",
					"text": "\n",
					"output_type": "stream"
				}
			]
		},
		{
			"cell_type": "code",
			"source": "layoff_table_spark.groupBy(\"industry\").count().show(50)",
			"metadata": {
				"trusted": true,
				"tags": []
			},
			"execution_count": 56,
			"outputs": [
				{
					"name": "stdout",
					"text": "+---------------+-----+\n|       industry|count|\n+---------------+-----+\n|         Energy|   12|\n| Infrastructure|   43|\n|          Legal|   13|\n|           Data|   79|\n|        Support|   43|\n|         Crypto|   99|\n|    Real Estate|  117|\n|          Other|  129|\n|        Fitness|   29|\n| Transportation|  148|\n|          Sales|   37|\n|         Retail|  195|\n|       Fin-Tech|    3|\n|      Education|   93|\n|         Travel|   66|\n|           NULL|    4|\n|     Healthcare|  183|\n|        Finance|  284|\n|          Media|   95|\n|           Food|  141|\n|             HR|   66|\n|      Marketing|  139|\n|       Hardware|   17|\n|   Construction|   16|\n|        Product|   35|\n|     Recruiting|   28|\n|  Manufacturing|    2|\n|      Logistics|   41|\n|Crypto Currency|    2|\n|       Consumer|  118|\n| CryptoCurrency|    1|\n|       Security|   74|\n|      Aerospace|    6|\n+---------------+-----+\n",
					"output_type": "stream"
				}
			]
		},
		{
			"cell_type": "code",
			"source": "layoff_table_spark = layoff_table_spark.where(layoff_table_spark[\"industry\"] != \"NULL\")",
			"metadata": {
				"trusted": true,
				"tags": []
			},
			"execution_count": 57,
			"outputs": [
				{
					"name": "stdout",
					"text": "\n",
					"output_type": "stream"
				}
			]
		},
		{
			"cell_type": "markdown",
			"source": "#### changing null values to 0\n",
			"metadata": {
				"editable": true
			}
		},
		{
			"cell_type": "code",
			"source": "layoff_table_spark = layoff_table_spark.withColumn(\n    \"total_laid_off\", when(col(\"total_laid_off\") == \"NULL\", \"0\").otherwise(col(\"total_laid_off\")))",
			"metadata": {
				"trusted": true,
				"tags": []
			},
			"execution_count": 59,
			"outputs": [
				{
					"name": "stdout",
					"text": "\n",
					"output_type": "stream"
				}
			]
		},
		{
			"cell_type": "code",
			"source": "layoff_table_spark = layoff_table_spark.withColumn(\n    \"percentage_laid_off\", when(col(\"percentage_laid_off\") == \"NULL\", \"0\").otherwise(col(\"percentage_laid_off\")))",
			"metadata": {
				"trusted": true,
				"tags": []
			},
			"execution_count": 60,
			"outputs": [
				{
					"name": "stdout",
					"text": "\n",
					"output_type": "stream"
				}
			]
		},
		{
			"cell_type": "code",
			"source": "layoff_table_spark.show(50)",
			"metadata": {
				"trusted": true,
				"tags": []
			},
			"execution_count": 61,
			"outputs": [
				{
					"name": "stdout",
					"text": "+--------------------+----------------+--------------+--------------+-------------------+---------+--------+--------------+---------------------+\n|        company_name|        location|      industry|total_laid_off|percentage_laid_off|     date|   stage|       country|funds_raised_millions|\n+--------------------+----------------+--------------+--------------+-------------------+---------+--------+--------------+---------------------+\n|          BigBear.ai|       Baltimore|          Data|             0|               0.07| 9/8/2022|Post-IPO| United States|                  200|\n|      Genome Medical|     SF Bay Area|    Healthcare|            23|                  0| 9/8/2022|Series C| United States|                  120|\n|      Pomelo Fashion|         Bangkok|        Retail|            55|               0.08| 9/8/2022| Unknown|      Thailand|                  120|\n|           GoStudent|          Vienna|     Education|           200|                  0| 9/8/2022|Series D|       Austria|                  686|\n|       Lido Learning|          Mumbai|     Education|             0|                  1| 9/9/2022|Series C|         India|                   20|\n|             Flowhub|          Denver|        Retail|             0|               0.15| 9/9/2022| Unknown| United States|                   45|\n|   DreamBox Learning|         Seattle|     Education|             0|                  0| 9/9/2022|Acquired| United States|                  175|\n|          CommonBond|   New York City|       Finance|             0|                  1| 9/9/2022|Series D| United States|                  125|\n|             Capiter|           Cairo|       Finance|             0|                  0| 9/9/2022|Series A|         Egypt|                   33|\n|         Amber Group|       Hong Kong|        Crypto|             0|                0.1| 9/9/2022|Series B|     Hong Kong|                  328|\n|             Patreon|     SF Bay Area|         Media|             5|                  0| 9/9/2022|Series F| United States|                  413|\n|             Brighte|          Sydney|        Energy|            58|                  0| 9/9/2022|Series C|     Australia|                  145|\n|       SkipTheDishes|        Winnipeg|          Food|           350|                  0| 9/9/2022|Acquired|        Canada|                    6|\n|                Sama|     SF Bay Area|          Data|             0|                  0|9/12/2022|Series B| United States|                   84|\n|     Rent the Runway|   New York City|        Retail|             0|               0.24|9/12/2022|Post-IPO| United States|                  526|\n|              Karbon|     SF Bay Area|         Other|             0|               0.23|9/12/2022|Series B| United States|                   91|\n|             Compete|        Tel Aviv|            HR|            11|               0.28|9/12/2022|Series A|        Israel|                   17|\n|      Mode Analytics|     SF Bay Area|          Data|            25|                  0|9/12/2022|Series D| United States|                   81|\n|              Quicko|       Sao Paulo|Transportation|            60|                  0|9/12/2022|Acquired|        Brazil|                   28|\n|              Propzy|Ho Chi Minh City|   Real Estate|             0|                  1|9/13/2022|Series A|       Vietnam|                   33|\n|           FullStory|         Atlanta|     Marketing|             0|               0.12|9/13/2022| Unknown| United States|                  197|\n|             Patreon|     SF Bay Area|         Media|            80|               0.17|9/13/2022|Series F| United States|                  413|\n|             Taboola|   New York City|     Marketing|           100|               0.06|9/13/2022|Post-IPO| United States|                  445|\n|        Checkout.com|          London|       Finance|           100|               0.05|9/13/2022|Series D|United Kingdom|                 1800|\n|              Rubius|          Boston|    Healthcare|           160|               0.75|9/13/2022|Post-IPO| United States|                  445|\n|             Bitrise|        Budapest|Infrastructure|             0|               0.14|9/14/2022|Series C|       Hungary|                   83|\n|             Netflix|     SF Bay Area|         Media|            30|                  0|9/14/2022|Post-IPO| United States|               121900|\n|              Infarm|          Berlin|         Other|            50|               0.05|9/14/2022|Series D|       Germany|                  604|\n|               Pitch|          Berlin|     Marketing|            59|                0.3|9/14/2022|Series B|       Germany|                  137|\n|              Twilio|     SF Bay Area|         Other|           800|               0.11|9/14/2022|Post-IPO| United States|                  614|\n|            NextRoll|     SF Bay Area|     Marketing|             0|               0.07|9/15/2022| Unknown| United States|                  108|\n|              DayTwo|     SF Bay Area|    Healthcare|             0|                  0|9/15/2022|Series B| United States|                   90|\n|            WorkRamp|     SF Bay Area|            HR|            35|                0.2|9/15/2022|Series C| United States|                   67|\n|               Acast|       Stockholm|         Media|            70|               0.15|9/15/2022|Post-IPO|        Sweden|                  126|\n|          LivePerson|   New York City|       Support|           193|               0.11|9/15/2022|Post-IPO| United States|                   42|\n|           TrueLayer|          London|       Finance|            40|                0.1|9/16/2022|Series E| United States|                  271|\n|               Clear|       Bengaluru|       Finance|           190|                0.2|9/16/2022|Series C|         India|                  140|\n|              Shopee|         Jakarta|          Food|             0|                  0|9/18/2022| Unknown|     Indonesia|                    0|\n|            VideoAmp|     Los Angeles|     Marketing|             0|               0.02|9/19/2022|Series F| United States|                  456|\n|Vesalius Therapeu...|          Boston|    Healthcare|            29|               0.43|9/19/2022|Series B| United States|                   75|\n|                 Ola|       Bengaluru|Transportation|           200|                  0|9/19/2022|Series J|         India|                 5000|\n|              Zappos|       Las Vegas|        Retail|             0|               0.04|9/20/2022|Acquired| United States|                   62|\n|              Ouster|     SF Bay Area|Transportation|             0|                0.1|9/20/2022|Post-IPO| United States|                  282|\n|                  99|       Sao Paulo|Transportation|            75|               0.02|9/20/2022|Acquired|        Brazil|                  244|\n|                 Ada|         Toronto|       Support|            78|               0.16|9/20/2022|Series C|        Canada|                  190|\n|            Curative|     Los Angeles|    Healthcare|           109|                  0|9/20/2022|    Seed| United States|                    8|\n|             Compass|   New York City|   Real Estate|           271|                  0|9/20/2022|Post-IPO| United States|                 1600|\n|      Candidate Labs|     SF Bay Area|            HR|             0|                  0|9/21/2022|    Seed| United States|                    5|\n|          Kitty Hawk|     SF Bay Area|     Aerospace|           100|                  1|9/21/2022| Unknown| United States|                    1|\n|            Made.com|          London|        Retail|             0|               0.35|9/22/2022|Series D|United Kingdom|                  136|\n+--------------------+----------------+--------------+--------------+-------------------+---------+--------+--------------+---------------------+\nonly showing top 50 rows\n",
					"output_type": "stream"
				}
			]
		},
		{
			"cell_type": "code",
			"source": "#inspecting actual date values\nlayoff_table_spark.show()",
			"metadata": {
				"trusted": true,
				"tags": []
			},
			"execution_count": 65,
			"outputs": [
				{
					"name": "stdout",
					"text": "+-----------------+----------------+--------------+--------------+-------------------+---------+--------+-------------+---------------------+\n|     company_name|        location|      industry|total_laid_off|percentage_laid_off|     date|   stage|      country|funds_raised_millions|\n+-----------------+----------------+--------------+--------------+-------------------+---------+--------+-------------+---------------------+\n|       BigBear.ai|       Baltimore|          Data|             0|               0.07| 9/8/2022|Post-IPO|United States|                  200|\n|   Genome Medical|     SF Bay Area|    Healthcare|            23|                  0| 9/8/2022|Series C|United States|                  120|\n|   Pomelo Fashion|         Bangkok|        Retail|            55|               0.08| 9/8/2022| Unknown|     Thailand|                  120|\n|        GoStudent|          Vienna|     Education|           200|                  0| 9/8/2022|Series D|      Austria|                  686|\n|    Lido Learning|          Mumbai|     Education|             0|                  1| 9/9/2022|Series C|        India|                   20|\n|          Flowhub|          Denver|        Retail|             0|               0.15| 9/9/2022| Unknown|United States|                   45|\n|DreamBox Learning|         Seattle|     Education|             0|                  0| 9/9/2022|Acquired|United States|                  175|\n|       CommonBond|   New York City|       Finance|             0|                  1| 9/9/2022|Series D|United States|                  125|\n|          Capiter|           Cairo|       Finance|             0|                  0| 9/9/2022|Series A|        Egypt|                   33|\n|      Amber Group|       Hong Kong|        Crypto|             0|                0.1| 9/9/2022|Series B|    Hong Kong|                  328|\n|          Patreon|     SF Bay Area|         Media|             5|                  0| 9/9/2022|Series F|United States|                  413|\n|          Brighte|          Sydney|        Energy|            58|                  0| 9/9/2022|Series C|    Australia|                  145|\n|    SkipTheDishes|        Winnipeg|          Food|           350|                  0| 9/9/2022|Acquired|       Canada|                    6|\n|             Sama|     SF Bay Area|          Data|             0|                  0|9/12/2022|Series B|United States|                   84|\n|  Rent the Runway|   New York City|        Retail|             0|               0.24|9/12/2022|Post-IPO|United States|                  526|\n|           Karbon|     SF Bay Area|         Other|             0|               0.23|9/12/2022|Series B|United States|                   91|\n|          Compete|        Tel Aviv|            HR|            11|               0.28|9/12/2022|Series A|       Israel|                   17|\n|   Mode Analytics|     SF Bay Area|          Data|            25|                  0|9/12/2022|Series D|United States|                   81|\n|           Quicko|       Sao Paulo|Transportation|            60|                  0|9/12/2022|Acquired|       Brazil|                   28|\n|           Propzy|Ho Chi Minh City|   Real Estate|             0|                  1|9/13/2022|Series A|      Vietnam|                   33|\n+-----------------+----------------+--------------+--------------+-------------------+---------+--------+-------------+---------------------+\nonly showing top 20 rows\n",
					"output_type": "stream"
				}
			]
		},
		{
			"cell_type": "markdown",
			"source": "#### changing datatypes\n",
			"metadata": {
				"editable": true
			}
		},
		{
			"cell_type": "code",
			"source": "from pyspark.sql.types import StructType, StructField, StringType, IntegerType, FloatType, DateType\nschema = StructType([\n    StructField(\"company_name\", StringType(), nullable=True),\n    StructField(\"location\", StringType(), nullable=True),\n    StructField(\"industry\", StringType(), nullable=True),\n    StructField(\"total_laid_off\", IntegerType(), nullable=True),\n    StructField(\"percentage_laid_off\", FloatType(), nullable=True),\n    StructField(\"stage\",StringType(),nullable=True),\n    StructField(\"country\", StringType(), nullable=True),\n    StructField(\"company_name\", StringType(), nullable=True),\n    StructField(\"funds_raised_millions\", IntegerType(), nullable=True),\n        StructField(\"date\", DateType(), nullable=True)\n\n])",
			"metadata": {
				"trusted": true,
				"tags": []
			},
			"execution_count": 78,
			"outputs": [
				{
					"name": "stdout",
					"text": "\n",
					"output_type": "stream"
				}
			]
		},
		{
			"cell_type": "code",
			"source": "layoff_table_spark.printSchema()",
			"metadata": {
				"trusted": true,
				"tags": []
			},
			"execution_count": 79,
			"outputs": [
				{
					"name": "stdout",
					"text": "root\n |-- company_name: string (nullable = true)\n |-- location: string (nullable = true)\n |-- industry: string (nullable = true)\n |-- total_laid_off: string (nullable = true)\n |-- percentage_laid_off: string (nullable = true)\n |-- date: string (nullable = true)\n |-- stage: string (nullable = true)\n |-- country: string (nullable = true)\n |-- funds_raised_millions: string (nullable = true)\n",
					"output_type": "stream"
				}
			]
		},
		{
			"cell_type": "markdown",
			"source": "#### converting to dynamic frame and saving the file\n",
			"metadata": {
				"editable": true
			}
		},
		{
			"cell_type": "code",
			"source": "from awsglue.dynamicframe import DynamicFrame",
			"metadata": {
				"trusted": true,
				"tags": []
			},
			"execution_count": 80,
			"outputs": [
				{
					"name": "stdout",
					"text": "\n",
					"output_type": "stream"
				}
			]
		},
		{
			"cell_type": "code",
			"source": "dyf=DynamicFrame.fromDF(layoff_table_spark,glueContext,\"dyf\")",
			"metadata": {
				"trusted": true,
				"tags": []
			},
			"execution_count": 81,
			"outputs": [
				{
					"name": "stdout",
					"text": "\n",
					"output_type": "stream"
				}
			]
		},
		{
			"cell_type": "code",
			"source": "glueContext.write_dynamic_frame.from_options(\n    frame=dyf,connection_type =\"s3\",\n    connection_options={\"path\":\"s3://samplebucketawsreq/tempdir/\"},\n    format=\"csv\")",
			"metadata": {
				"trusted": true,
				"tags": []
			},
			"execution_count": 83,
			"outputs": [
				{
					"name": "stdout",
					"text": "<awsglue.dynamicframe.DynamicFrame object at 0x7f0379de8640>\n",
					"output_type": "stream"
				}
			]
		},
		{
			"cell_type": "code",
			"source": "",
			"metadata": {},
			"execution_count": null,
			"outputs": []
		}
	]
}